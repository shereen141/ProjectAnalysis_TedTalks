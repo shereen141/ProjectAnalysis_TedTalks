{
 "cells": [
  {
   "cell_type": "markdown",
   "metadata": {},
   "source": [
    "# Programming Assignment I: Exploratory Analysis over TED Talks Dataset"
   ]
  },
  {
   "cell_type": "markdown",
   "metadata": {},
   "source": [
    "## Student Details\n",
    "\n",
    "When submitting, fill your name and ID in this cell. Note that this is a markdown cell.\n",
    "\n",
    "Student Name and ID:Shereen Hasan 100437130"
   ]
  },
  {
   "cell_type": "markdown",
   "metadata": {},
   "source": [
    "# Assignment Details\n",
    "\n",
    "In this assignment, you will conduct a guided exploration over TED Talks Dataset. You will learn and use some of the most common exploration/aggregation/descriptive operations. This should also help you learn most of the key functionalities in Pandas.\n",
    "\n",
    "You will also learn how to use visualization libraries to identify patterns in data that will help in your further data analysis. You will also explore most popular chart types and how to use different libraries and styles to make your visualizations more attractive."
   ]
  },
  {
   "cell_type": "markdown",
   "metadata": {},
   "source": [
    "# Dataset Details\n",
    "\n",
    "In this assignment, you will work on TED Talks dataset. This dataset contains information about all audio-video recordings of TED Talks uploaded to the official TED.com website until September 21st, 2017. The TED dataset contains information about all talks including number of views, number of comments, descriptions, speakers, and titles. \n",
    "\n",
    "### TED Talks Dataset\n",
    "####  name: The official name of the TED Talk. Includes the title and the speaker.\n",
    "#### title: The title of the talk\n",
    "#### description: A short description of what the talk is about.\n",
    "#### main_speaker: The first named speaker of the talk.\n",
    "#### speaker_occupation: The occupation of the main speaker.\n",
    "#### num_speaker: The number of speakers in the talk.\n",
    "#### duration: The duration of the talk in seconds.\n",
    "#### event: The TED/TEDx event where the talk took place.\n",
    "#### published_date: The Unix timestamp for the publication of the talk on TED.com\n",
    "#### comments: The number of first level comments made on the talk.\n",
    "#### tags: The themes associated with the talk.\n",
    "#### languages: The number of languages in which the talk is available.\n",
    "#### url: The URL of the talk.\n",
    "#### views: The number of views on the talk."
   ]
  },
  {
   "cell_type": "markdown",
   "metadata": {},
   "source": [
    "# Required Python Packages\n",
    "You will use the packages imported below in this assignment. \n",
    "Do NOT import any new packages without confirming with the TA. "
   ]
  },
  {
   "cell_type": "code",
   "execution_count": 8,
   "metadata": {},
   "outputs": [],
   "source": [
    "# special IPython command to prepare the notebook for matplotlib\n",
    "%matplotlib inline \n",
    "\n",
    "#Array processing\n",
    "import numpy as np\n",
    "#Data analysis, wrangling and common exploratory operations\n",
    "import pandas as pd\n",
    "from pandas import Series, DataFrame\n",
    "\n",
    "#For visualization. Matplotlib for basic viz and seaborn for more stylish figures\n",
    "import matplotlib.pyplot as plt\n",
    "import seaborn as sns\n",
    "\n",
    "#For some of the date operations\n",
    "import datetime"
   ]
  },
  {
   "cell_type": "markdown",
   "metadata": {},
   "source": [
    "# Reading Dataset\n",
    "The Python code below reads the ted_talks dataset into a Pandas data frame with the name df_ted. \n",
    "For this code to work, the file 'ted_talks.csv' must be in the same folder as the notebook."
   ]
  },
  {
   "cell_type": "code",
   "execution_count": 9,
   "metadata": {},
   "outputs": [
    {
     "data": {
      "text/html": [
       "<div>\n",
       "<style scoped>\n",
       "    .dataframe tbody tr th:only-of-type {\n",
       "        vertical-align: middle;\n",
       "    }\n",
       "\n",
       "    .dataframe tbody tr th {\n",
       "        vertical-align: top;\n",
       "    }\n",
       "\n",
       "    .dataframe thead th {\n",
       "        text-align: right;\n",
       "    }\n",
       "</style>\n",
       "<table border=\"1\" class=\"dataframe\">\n",
       "  <thead>\n",
       "    <tr style=\"text-align: right;\">\n",
       "      <th></th>\n",
       "      <th>comments</th>\n",
       "      <th>description</th>\n",
       "      <th>duration</th>\n",
       "      <th>event</th>\n",
       "      <th>languages</th>\n",
       "      <th>main_speaker</th>\n",
       "      <th>name</th>\n",
       "      <th>num_speaker</th>\n",
       "      <th>published_date</th>\n",
       "      <th>speaker_occupation</th>\n",
       "      <th>tags</th>\n",
       "      <th>title</th>\n",
       "      <th>url</th>\n",
       "      <th>views</th>\n",
       "    </tr>\n",
       "  </thead>\n",
       "  <tbody>\n",
       "    <tr>\n",
       "      <th>0</th>\n",
       "      <td>4553</td>\n",
       "      <td>Sir Ken Robinson makes an entertaining and pro...</td>\n",
       "      <td>1164</td>\n",
       "      <td>TED2006</td>\n",
       "      <td>60</td>\n",
       "      <td>Ken Robinson</td>\n",
       "      <td>Ken Robinson: Do schools kill creativity?</td>\n",
       "      <td>1</td>\n",
       "      <td>26-06-2006</td>\n",
       "      <td>Author/educator</td>\n",
       "      <td>['children', 'creativity', 'culture', 'dance',...</td>\n",
       "      <td>Do schools kill creativity?</td>\n",
       "      <td>https://www.ted.com/talks/ken_robinson_says_sc...</td>\n",
       "      <td>47227110</td>\n",
       "    </tr>\n",
       "    <tr>\n",
       "      <th>1</th>\n",
       "      <td>265</td>\n",
       "      <td>With the same humor and humanity he exuded in ...</td>\n",
       "      <td>977</td>\n",
       "      <td>TED2006</td>\n",
       "      <td>43</td>\n",
       "      <td>Al Gore</td>\n",
       "      <td>Al Gore: Averting the climate crisis</td>\n",
       "      <td>1</td>\n",
       "      <td>26-06-2006</td>\n",
       "      <td>Climate advocate</td>\n",
       "      <td>['alternative energy', 'cars', 'climate change...</td>\n",
       "      <td>Averting the climate crisis</td>\n",
       "      <td>https://www.ted.com/talks/al_gore_on_averting_...</td>\n",
       "      <td>3200520</td>\n",
       "    </tr>\n",
       "    <tr>\n",
       "      <th>2</th>\n",
       "      <td>124</td>\n",
       "      <td>New York Times columnist David Pogue takes aim...</td>\n",
       "      <td>1286</td>\n",
       "      <td>TED2006</td>\n",
       "      <td>26</td>\n",
       "      <td>David Pogue</td>\n",
       "      <td>David Pogue: Simplicity sells</td>\n",
       "      <td>1</td>\n",
       "      <td>26-06-2006</td>\n",
       "      <td>Technology columnist</td>\n",
       "      <td>['computers', 'entertainment', 'interface desi...</td>\n",
       "      <td>Simplicity sells</td>\n",
       "      <td>https://www.ted.com/talks/david_pogue_says_sim...</td>\n",
       "      <td>1636292</td>\n",
       "    </tr>\n",
       "    <tr>\n",
       "      <th>3</th>\n",
       "      <td>200</td>\n",
       "      <td>In an emotionally charged talk, MacArthur-winn...</td>\n",
       "      <td>1116</td>\n",
       "      <td>TED2006</td>\n",
       "      <td>35</td>\n",
       "      <td>Majora Carter</td>\n",
       "      <td>Majora Carter: Greening the ghetto</td>\n",
       "      <td>1</td>\n",
       "      <td>26-06-2006</td>\n",
       "      <td>Activist for environmental justice</td>\n",
       "      <td>['MacArthur grant', 'activism', 'business', 'c...</td>\n",
       "      <td>Greening the ghetto</td>\n",
       "      <td>https://www.ted.com/talks/majora_carter_s_tale...</td>\n",
       "      <td>1697550</td>\n",
       "    </tr>\n",
       "    <tr>\n",
       "      <th>4</th>\n",
       "      <td>593</td>\n",
       "      <td>You've never seen data presented like this. Wi...</td>\n",
       "      <td>1190</td>\n",
       "      <td>TED2006</td>\n",
       "      <td>48</td>\n",
       "      <td>Hans Rosling</td>\n",
       "      <td>Hans Rosling: The best stats you've ever seen</td>\n",
       "      <td>1</td>\n",
       "      <td>27-06-2006</td>\n",
       "      <td>Global health expert; data visionary</td>\n",
       "      <td>['Africa', 'Asia', 'Google', 'demo', 'economic...</td>\n",
       "      <td>The best stats you've ever seen</td>\n",
       "      <td>https://www.ted.com/talks/hans_rosling_shows_t...</td>\n",
       "      <td>12005869</td>\n",
       "    </tr>\n",
       "  </tbody>\n",
       "</table>\n",
       "</div>"
      ],
      "text/plain": [
       "   comments                                        description  duration  \\\n",
       "0      4553  Sir Ken Robinson makes an entertaining and pro...      1164   \n",
       "1       265  With the same humor and humanity he exuded in ...       977   \n",
       "2       124  New York Times columnist David Pogue takes aim...      1286   \n",
       "3       200  In an emotionally charged talk, MacArthur-winn...      1116   \n",
       "4       593  You've never seen data presented like this. Wi...      1190   \n",
       "\n",
       "     event  languages   main_speaker  \\\n",
       "0  TED2006         60   Ken Robinson   \n",
       "1  TED2006         43        Al Gore   \n",
       "2  TED2006         26    David Pogue   \n",
       "3  TED2006         35  Majora Carter   \n",
       "4  TED2006         48   Hans Rosling   \n",
       "\n",
       "                                            name  num_speaker published_date  \\\n",
       "0      Ken Robinson: Do schools kill creativity?            1     26-06-2006   \n",
       "1           Al Gore: Averting the climate crisis            1     26-06-2006   \n",
       "2                  David Pogue: Simplicity sells            1     26-06-2006   \n",
       "3             Majora Carter: Greening the ghetto            1     26-06-2006   \n",
       "4  Hans Rosling: The best stats you've ever seen            1     27-06-2006   \n",
       "\n",
       "                     speaker_occupation  \\\n",
       "0                       Author/educator   \n",
       "1                      Climate advocate   \n",
       "2                  Technology columnist   \n",
       "3    Activist for environmental justice   \n",
       "4  Global health expert; data visionary   \n",
       "\n",
       "                                                tags  \\\n",
       "0  ['children', 'creativity', 'culture', 'dance',...   \n",
       "1  ['alternative energy', 'cars', 'climate change...   \n",
       "2  ['computers', 'entertainment', 'interface desi...   \n",
       "3  ['MacArthur grant', 'activism', 'business', 'c...   \n",
       "4  ['Africa', 'Asia', 'Google', 'demo', 'economic...   \n",
       "\n",
       "                             title  \\\n",
       "0      Do schools kill creativity?   \n",
       "1      Averting the climate crisis   \n",
       "2                 Simplicity sells   \n",
       "3              Greening the ghetto   \n",
       "4  The best stats you've ever seen   \n",
       "\n",
       "                                                 url     views  \n",
       "0  https://www.ted.com/talks/ken_robinson_says_sc...  47227110  \n",
       "1  https://www.ted.com/talks/al_gore_on_averting_...   3200520  \n",
       "2  https://www.ted.com/talks/david_pogue_says_sim...   1636292  \n",
       "3  https://www.ted.com/talks/majora_carter_s_tale...   1697550  \n",
       "4  https://www.ted.com/talks/hans_rosling_shows_t...  12005869  "
      ]
     },
     "execution_count": 9,
     "metadata": {},
     "output_type": "execute_result"
    }
   ],
   "source": [
    "#read the csv file into a Pandas data frame\n",
    "df_ted = pd.read_csv('ted_talks.csv', encoding='latin1')\n",
    "#convert the Unix timestamps into a readable date format\n",
    "df_ted['published_date'] = df_ted['published_date'].apply(lambda x: datetime.datetime.fromtimestamp( int(x)).strftime('%d-%m-%Y'))\n",
    "#return the first 5 rows of the dataset\n",
    "df_ted.head()"
   ]
  },
  {
   "cell_type": "markdown",
   "metadata": {},
   "source": [
    "# Task 1: Statistical Exploratory Data Analysis\n",
    "Let us start with getting know the dataset. Your first task will be to get some basic information by using Pandas features."
   ]
  },
  {
   "cell_type": "code",
   "execution_count": 10,
   "metadata": {},
   "outputs": [
    {
     "name": "stdout",
     "output_type": "stream",
     "text": [
      "<class 'pandas.core.frame.DataFrame'>\n",
      "RangeIndex: 2550 entries, 0 to 2549\n",
      "Data columns (total 14 columns):\n",
      "comments              2550 non-null int64\n",
      "description           2550 non-null object\n",
      "duration              2550 non-null int64\n",
      "event                 2550 non-null object\n",
      "languages             2550 non-null int64\n",
      "main_speaker          2550 non-null object\n",
      "name                  2550 non-null object\n",
      "num_speaker           2550 non-null int64\n",
      "published_date        2550 non-null object\n",
      "speaker_occupation    2544 non-null object\n",
      "tags                  2550 non-null object\n",
      "title                 2550 non-null object\n",
      "url                   2550 non-null object\n",
      "views                 2550 non-null int64\n",
      "dtypes: int64(5), object(9)\n",
      "memory usage: 279.0+ KB\n",
      "Task 1-a: Details of df_ted data frame are: \n",
      " None\n",
      "\n",
      "\n",
      "Task 1-b: Number of rows:2550 and number of columns:14\n",
      "\n",
      "\n",
      "Task 1-c: Descriptive details of duration is \n",
      " count    2550.000000\n",
      "mean      826.510196\n",
      "std       374.009138\n",
      "min       135.000000\n",
      "25%       577.000000\n",
      "50%       848.000000\n",
      "75%      1046.750000\n",
      "max      5256.000000\n",
      "Name: duration, dtype: float64\n",
      "\n",
      "\n",
      "Task 1-d: The number of unique events : 355\n",
      "Task 1-d: The number of unique languages : 66\n"
     ]
    }
   ],
   "source": [
    "#For each task below, look for a Pandas function to do the task.\n",
    "#Replace None in each task with your code.\n",
    "\n",
    "\n",
    "#Task 1-a: Print the details of the df_ted data frame (information such as number of rows,columns, name of columns, etc)\n",
    "a=df_ted.info()\n",
    "print (\"Task 1-a: Details of df_ted data frame are: \\n\", a )\n",
    "\n",
    "\n",
    "#Task 1-b: Find the number of rows and columns in the df_ted data frame.\n",
    "num_rows = df_ted.shape[0]\n",
    "num_cols = len(df_ted.columns)\n",
    "print (\"\\n\\nTask 1-b: Number of rows:%s and number of columns:%s\" % (num_rows, num_cols)) \n",
    "\n",
    "\n",
    "#Task 1-c: Print the descriptive details (min, max, quartiles etc) for 'duration' column of  the ted_talk\n",
    "# duration: The duration of the talk in seconds.\n",
    "print (\"\\n\\nTask 1-c: Descriptive details of duration is \\n\", df_ted['duration'].describe())\n",
    "\n",
    "\n",
    "#Task 1-d: Print the number of unique values for 'event' and 'languages' columns\n",
    "num_uniq_event = len(df_ted['event'].unique())\n",
    "num_uniq_languages = len(df_ted['languages'].unique())\n",
    "print (\"\\n\\nTask 1-d: The number of unique events :\", num_uniq_event)\n",
    "print (\"Task 1-d: The number of unique languages :\", num_uniq_languages)\n",
    "\n"
   ]
  },
  {
   "cell_type": "markdown",
   "metadata": {},
   "source": [
    "# Task 2: Aggregation & Filtering & Rank\n",
    "In this task, we will perform some very high level aggregation and filtering operations. Then, we will apply ranking on the results for some tasks. Pandas has a convenient and powerful syntax for aggregation, filtering, and ranking. DO NOT write a for loop. Pandas has built-in functions for all tasks. "
   ]
  },
  {
   "cell_type": "code",
   "execution_count": 14,
   "metadata": {},
   "outputs": [
    {
     "name": "stdout",
     "output_type": "stream",
     "text": [
      "Task 2-a: The total number of comments on talks in TED2016 is 19758.0 and in TED2017 is 9868.0\n",
      "\n",
      "\n",
      "Task 2-b: The total number of talks in 2015 is 220, in 2016 is 243, and in 2017 is 197\n",
      "\n",
      "\n",
      "Task 2-c: The total number of talks that meet the given conditions in 2012 is 116 and in 2014 is 80\n",
      "\n",
      "\n",
      "Task 2-d: \n",
      "The top 5 least viewed talk in 2016: \n",
      "                                                  title   views\n",
      "2263  How Argentina's blind soccer team became champ...  443773\n",
      "2303            Ballroom dance that breaks gender roles  571009\n",
      "2266                 The deadly legacy of cluster bombs  645572\n",
      "2319                                     \"Space Oddity\"  738590\n",
      "2136   How I'm discovering the secrets of ancient texts  761052 \n",
      "\n",
      "The top 5 least viewed talk in 2016: \n",
      "                                                  title   views\n",
      "2507                      A dance to honor Mother Earth  182975\n",
      "2533      Would you live in a floating city in the sky?  248411\n",
      "2547  What intelligent machines can learn from a sch...  375647\n",
      "2485  Why journalists have an obligation to challeng...  383080\n",
      "2549  How a video game might help us build better ci...  391721\n",
      "\n",
      "\n",
      "Task 2-e: \n",
      "The top 10 most commented talk in 2010: \n",
      "                                  title  comments\n",
      "644  Science can answer moral questions      3356\n",
      "661        The danger of science denial      2272\n",
      "677    How great leaders inspire action      1930\n",
      "837          The power of vulnerability      1927\n",
      "667      Homeopathy, quackery and fraud      1545\n",
      "\n",
      "\n",
      "Task 2-f: \n",
      "The top 10 events with the most number of talks: \n",
      "TED2014           84\n",
      "TED2009           83\n",
      "TED2016           77\n",
      "TED2013           77\n",
      "TED2015           75\n",
      "TEDGlobal 2012    70\n",
      "TED2011           70\n",
      "TED2010           68\n",
      "TEDGlobal 2011    68\n",
      "TED2007           68\n",
      "Name: event, dtype: int64\n"
     ]
    }
   ],
   "source": [
    "#Task 2-a: Find out the total number of comments for all talks in TED2016 and TED2017 events.\n",
    "\n",
    "num_comments_ted2016 = df_ted['comments'].where(df_ted['published_date'].str.contains('2016')).sum()\n",
    "num_comments_ted2017 = df_ted['comments'].where(df_ted['published_date'].str.contains('2017')).sum()\n",
    "\n",
    "print (\"Task 2-a: The total number of comments on talks in TED2016 is %s and in TED2017 is %s\" \n",
    "       % (num_comments_ted2016, num_comments_ted2017))\n",
    "\n",
    "\n",
    "#Task 2-b: Find out the total number of talks in 2015, 2016, and 2017.\n",
    "#Let us create a new column for 'year' by using 'published_date' column\n",
    "df_ted['year'] = df_ted['published_date'].apply(lambda x: x.split('-')[2])\n",
    "num_talks_2015 = (df_ted['year']==\"2015\").sum()\n",
    "num_talks_2016 = (df_ted['year']==\"2016\").sum()\n",
    "num_talks_2017 = (df_ted['year']==\"2017\").sum()\n",
    "print (\"\\n\\nTask 2-b: The total number of talks in 2015 is %s, in 2016 is %s, and in 2017 is %s\" \n",
    "       % (num_talks_2015, num_talks_2016, num_talks_2017))\n",
    "\n",
    "\n",
    "#Task 2-c: Let us now use multiple filtering criteria\n",
    "# Find out the total number of talks in 2012 and 2014 with at least 15 mins duration and 500 views.\n",
    "num_talks_2012 = len(df_ted[(df_ted['year']==\"2012\") & (df_ted['views']>=500)&(df_ted['duration']>=900)])\n",
    "num_talks_2014 = len(df_ted[(df_ted['year']==\"2014\") & (df_ted['views']>=500)&(df_ted['duration']>=900)])\n",
    "print (\"\\n\\nTask 2-c: The total number of talks that meet the given conditions in 2012 is %s and in 2014 is %s\" \n",
    "       % (num_talks_2012, num_talks_2014))\n",
    "\n",
    "\n",
    "\n",
    "#Task 2-d: Find out 5 least viewed talks in 2016 and 2017 and print their titles and number of views.\n",
    "#df_ted.sort_values(by='views', ascending=False)\n",
    "\n",
    "top5_least_viewed_2016 = ((df_ted.loc[(df_ted['year']==\"2016\"),['title','views']]).sort_values(['views'], ascending=[True])).head()\n",
    "top5_least_viewed_2017 = ((df_ted.loc[(df_ted['year']==\"2017\"),['title','views']]).sort_values(['views'], ascending=[True])).head()\n",
    "print (\"\\n\\nTask 2-d: \\nThe top 5 least viewed talk in 2016: \\n%s \\n\\nThe top 5 least viewed talk in 2016: \\n%s\" \n",
    "                     % (top5_least_viewed_2016,top5_least_viewed_2017))\n",
    "\n",
    "\n",
    "#Task 2-e: Find out 10 most commented talks in 2010 and print their titles and number of comments.\n",
    "\n",
    "top10_most_commented_2010 = ((df_ted.loc[(df_ted['year']==\"2010\"),['title','comments']]).sort_values(['comments'], ascending=[False])).head()\n",
    "print (\"\\n\\nTask 2-e: \\nThe top 10 most commented talk in 2010: \\n%s\" \n",
    "                     % (top10_most_commented_2010))\n",
    "\n",
    "\n",
    "#Task 2-f: Find out Top-10 events with the most number of talks\n",
    "top10_events_talks =df_ted['event'].value_counts(normalize=False, sort=True, ascending=False, bins=None, dropna=True).head(10)\n",
    "print (\"\\n\\nTask 2-f: \\nThe top 10 events with the most number of talks: \\n%s\" \n",
    "                     % (top10_events_talks))\n"
   ]
  },
  {
   "cell_type": "markdown",
   "metadata": {},
   "source": [
    "# Task 3: Visualization\n",
    "In this task, you will perform a number of visualization tasks to get some intuition about the data. Visualization is a key component of exploration. You can choose to use either Matplotlib or Seaborn for plotting. The default figures generated from Matplotlib might look a bit ugly. So you might want to try Seaborn to get better figures. Seaborn has a variety of styles. Feel free to experiment with them and choose the one you like. We have earmarked 10 points for the aesthetics of your visualizations."
   ]
  },
  {
   "cell_type": "code",
   "execution_count": 66,
   "metadata": {},
   "outputs": [
    {
     "data": {
      "image/png": "[encoded data removed]",
      "text/plain": [
       "<matplotlib.figure.Figure at 0x2275a2f0400>"
      ]
     },
     "metadata": {},
     "output_type": "display_data"
    },
    {
     "data": {
      "image/png": "[encoded data removed]",
      "text/plain": [
       "<matplotlib.figure.Figure at 0x2275a718a58>"
      ]
     },
     "metadata": {},
     "output_type": "display_data"
    },
    {
     "data": {
      "image/png": "[encoded data removed]",
      "text/plain": [
       "<matplotlib.figure.Figure at 0x2275a78dda0>"
      ]
     },
     "metadata": {},
     "output_type": "display_data"
    },
    {
     "data": {
      "image/png": "[encoded data removed]",
      "text/plain": [
       "<matplotlib.figure.Figure at 0x2275a3e8400>"
      ]
     },
     "metadata": {},
     "output_type": "display_data"
    },
    {
     "data": {
      "image/png": "[encoded data removed]",
      "text/plain": [
       "<matplotlib.figure.Figure at 0x2275a3ba8d0>"
      ]
     },
     "metadata": {},
     "output_type": "display_data"
    },
    {
     "data": {
      "image/png": "[encoded data removed]",
      "text/plain": [
       "<matplotlib.figure.Figure at 0x2275a8345f8>"
      ]
     },
     "metadata": {},
     "output_type": "display_data"
    },
    {
     "data": {
      "image/png": "[encoded data removed]",
      "text/plain": [
       "<matplotlib.figure.Figure at 0x2275a4b09b0>"
      ]
     },
     "metadata": {},
     "output_type": "display_data"
    }
   ],
   "source": [
    "#Task 3-a: Draw a histogram for total number of TED events hosted per year.\n",
    "#########################begin code for Task 3-a\n",
    "import matplotlib.pyplot as plt\n",
    "year = df_ted.groupby([\"year\",\"event\"], as_index=False).count()\n",
    "plt.hist(year['year'].astype(int))\n",
    "plt.title('Ques3:a', fontsize=20)\n",
    "plt.xlabel('Year')\n",
    "plt.ylabel('No. of Events')\n",
    "plt.show()\n",
    "\n",
    "#########################end code for Task 3-a\n",
    "\n",
    "\n",
    "#Task 3-b: Draw a histogram for total number of talks given per year.\n",
    "#########################begin code for Task 3-b\n",
    "plt.hist(df_ted['year'])\n",
    "plt.title('Ques3:b', fontsize=20)\n",
    "plt.xlabel('Year')\n",
    "plt.ylabel('Frequency')\n",
    "plt.show()\n",
    "#########################end code for Task 3-b\n",
    "\n",
    "#Task 3-c: Draw a histogram for total number of views per year.\n",
    "#########################begin code for Task 3-c\n",
    "Views = df_ted.groupby([\"year\"], as_index=False).sum()\n",
    "plt.hist(Views['year'].astype(float),weights=Views['views'].values)\n",
    "plt.title('Ques3:c', fontsize=20)\n",
    "plt.xlabel('Year')\n",
    "plt.ylabel('NO. of Views')\n",
    "plt.show()\n",
    "#########################end code for Task 3-c\n",
    "\n",
    "\n",
    "#Task 3-d: Draw a \"vertical\" bar chart that lists the top-10 main_speakers based on the number of comments.\n",
    "# Remember to make the bar chart into a vertical bar chart\n",
    "#########################begin code for Task 3-d\n",
    "#main_spk=((df_ted.loc[(df_ted['main_speaker'])].sort_values(['comments'], ascending=[True]))).head(10)\n",
    "\n",
    "Top_Author = df_ted.groupby([\"main_speaker\"], as_index=False).sum()\n",
    "Top = Top_Author.nlargest(10,'comments')\n",
    "\n",
    "plt.xticks([0,1,2,3,4,5,6,7,8,9],Top['main_speaker'],rotation = -90)\n",
    "plt.bar([0,1,2,3,4,5,6,7,8,9],Top['comments'],align='center')\n",
    "plt.title('Ques3:d', fontsize=20)\n",
    "plt.xlabel('Top-10 main_speakers')\n",
    "plt.ylabel('Number of Comments')\n",
    "plt.show()\n",
    "#########################end code for Task 3-d\n",
    "\n",
    "\n",
    "#Task 3-e: Now repeat Task 3-d based on views (again top-10)\n",
    "#########################begin code for Task 3-e\n",
    "Top_Author = df_ted.groupby(['main_speaker'],as_index=False).sum()\n",
    "views = Top_Author.nlargest(10,'views')\n",
    "plt.xticks([0,1,2,3,4,5,6,7,8,9],views['main_speaker'],rotation = -90)\n",
    "plt.bar([0,1,2,3,4,5,6,7,8,9],views['views'],align='center')\n",
    "plt.title('Ques3:e', fontsize=20)\n",
    "plt.xlabel('Top-10 main_speakers')\n",
    "plt.ylabel('Total views(in 10 millions)')\n",
    "plt.show()\n",
    "#########################end code for Task 3-e\n",
    "\n",
    "\n",
    "#Task 3-f: Draw a scatter plot for average number of views per duration of talk in minutes.\n",
    "# Notice that duration of talk is given in seconds. You need to convert it to minutes.\n",
    "#########################begin code for Task 3-f\n",
    "avg_view = df_ted['views'].groupby(df_ted['duration']/60).mean()\n",
    "plt.scatter(avg_view.index, avg_view.values)\n",
    "plt.title('Ques3:f', fontsize=20)\n",
    "plt.xlabel('Duration')\n",
    "plt.ylabel('Mean Views')\n",
    "plt.show()\n",
    "#########################end code for Task 3-f\n",
    "\n",
    "\n",
    "#Task 3-g: Draw a line chart showing how the number of languages in average varied every year\n",
    "# X-axis : year, Y-axis : the number of languages in which the talk is available\n",
    "#########################begin code for Task 3-g\n",
    "plt.plot(df_ted['languages'].groupby(df_ted['year']).mean())\n",
    "plt.title('Ques3:g', fontsize=20)\n",
    "plt.xlabel('Year')\n",
    "plt.ylabel('NO. of languages')\n",
    "plt.show()\n",
    "#########################end code for Task 3-g\n",
    "\n",
    "\n",
    "#Task 3-h: Draw a 'horizontal' bar chart for the top-10 most common occupation for main_speaker. \n",
    "#Notice that you need to use \"speaker_occupation\" field of your daset and the value of this field is given an array.\n",
    "#########################begin code for Task 3-h\n",
    "\n",
    "#########################end code for Task 3-h\n",
    "\n",
    "\n",
    "#Task 3-i: Draw a 'horizontal' bar chart for the top-10 most common themes. \n",
    "#Notice that you need to use the 'tag' column of your dataset and value of this column is given an array.\n",
    "#########################begin code for Task 3-i\n",
    "\n",
    "#########################end code for Task 3-i\n",
    "\n",
    "\n",
    "\n"
   ]
  },
  {
   "cell_type": "markdown",
   "metadata": {},
   "source": [
    "# Task 4: \n",
    "Find out an interesting information from your ted_talks dataset. Create a visualization for it. \n",
    "This task is worth 20 points. Your result will be judged based on the uniqueness and quality of your work (having a meaningful result and an aesthetic visulization). "
   ]
  },
  {
   "cell_type": "code",
   "execution_count": 64,
   "metadata": {},
   "outputs": [
    {
     "data": {
      "image/png": "[encoded data removed]",
      "text/plain": [
       "<matplotlib.figure.Figure at 0x2275a28eb38>"
      ]
     },
     "metadata": {},
     "output_type": "display_data"
    }
   ],
   "source": [
    "#########################begin code for Task 4\n",
    "plt.plot(df_ted['views'].astype(int))\n",
    "\n",
    "plt.show()\n",
    "#########################end code for Task 4"
   ]
  },
  {
   "cell_type": "markdown",
   "metadata": {},
   "source": [
    "# Grading\n",
    "\n",
    "Task 1: 10 points\n",
    "Task 2: 30 points\n",
    "Task 3: 40 points\n",
    "Task 4: 20 points\n"
   ]
  },
  {
   "cell_type": "code",
   "execution_count": null,
   "metadata": {},
   "outputs": [],
   "source": []
  }
 ],
 "metadata": {
  "kernelspec": {
   "display_name": "Python 3",
   "language": "python",
   "name": "python3"
  },
  "language_info": {
   "codemirror_mode": {
    "name": "ipython",
    "version": 3
   },
   "file_extension": ".py",
   "mimetype": "text/x-python",
   "name": "python",
   "nbconvert_exporter": "python",
   "pygments_lexer": "ipython3",
   "version": "3.6.4"
  }
 },
 "nbformat": 4,
 "nbformat_minor": 1
}
